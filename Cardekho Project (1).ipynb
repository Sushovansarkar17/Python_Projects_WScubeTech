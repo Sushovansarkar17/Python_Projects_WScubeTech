{
 "cells": [
  {
   "cell_type": "code",
   "execution_count": null,
   "id": "48ddd9f7-a071-4560-b594-f78ee7d9ff7c",
   "metadata": {},
   "outputs": [],
   "source": []
  }
 ],
 "metadata": {
  "kernelspec": {
   "display_name": "",
   "name": ""
  },
  "language_info": {
   "name": ""
  }
 },
 "nbformat": 4,
 "nbformat_minor": 5
}
